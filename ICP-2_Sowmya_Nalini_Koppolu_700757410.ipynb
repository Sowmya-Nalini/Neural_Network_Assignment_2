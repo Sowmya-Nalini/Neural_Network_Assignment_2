{
 "cells": [
  {
   "cell_type": "code",
   "execution_count": 1,
   "id": "ad3a40f0",
   "metadata": {},
   "outputs": [
    {
     "name": "stdout",
     "output_type": "stream",
     "text": [
      "Enter your first name: Sowmya Nalini\n",
      "Enter your last name: Koppolu\n",
      "Sowmya Nalini Koppolu\n",
      "Enter the string: Good evening\n",
      "Go vnn\n"
     ]
    }
   ],
   "source": [
    "def full_name(s, s1):\n",
    "  return s + \" \" + s1\n",
    "\n",
    "def string_alternative(s2):\n",
    "  return s2[::2]\n",
    "\n",
    "\n",
    "a = input(\"Enter your first name: \")\n",
    "b = input(\"Enter your last name: \")\n",
    "print(full_name(a, b))\n",
    "\n",
    "c = input(\"Enter the string: \")\n",
    "print(string_alternative(c))"
   ]
  },
  {
   "cell_type": "code",
   "execution_count": 8,
   "id": "de2cc266",
   "metadata": {},
   "outputs": [
    {
     "name": "stdout",
     "output_type": "stream",
     "text": [
      "Python: 1\n",
      "Course: 2\n",
      "Deep: 1\n",
      "Learning: 1\n"
     ]
    }
   ],
   "source": [
    "from collections import Counter\n",
    "\n",
    "def word_count_per_line(input_file, output_file):\n",
    "    try:\n",
    "        with open(input_file, 'r') as file:\n",
    "            lines = file.readlines()\n",
    "\n",
    "        word_counts = Counter()\n",
    "\n",
    "        # Process each line and count words\n",
    "        for line in lines:\n",
    "            words = line.split()\n",
    "            word_counts.update(words)\n",
    "\n",
    "        # Print the word count for each word\n",
    "        for word, count in word_counts.items():\n",
    "            print(f\"{word}: {count}\")\n",
    "\n",
    "        # Save the output to the output file\n",
    "        with open(output_file, 'w') as output_file:\n",
    "            for word, count in word_counts.items():\n",
    "                output_file.write(f\"{word}: {count}\\n\")\n",
    "\n",
    "\n",
    "    except FileNotFoundError:\n",
    "        print(\"Error: Input file not found.\")\n",
    "    except Exception as e:\n",
    "        print(\"An error occurred:\", str(e))\n",
    "\n",
    "# Specify the input and output file names\n",
    "input_file_name = 'input.txt'\n",
    "output_file_name = 'output.txt'\n",
    "\n",
    "# Call the function\n",
    "word_count_per_line(input_file_name, output_file_name)\n"
   ]
  },
  {
   "cell_type": "code",
   "execution_count": 2,
   "id": "424221d9",
   "metadata": {},
   "outputs": [
    {
     "name": "stdout",
     "output_type": "stream",
     "text": [
      "150 155 145 148\n",
      "[381.0, 393.7, 368.3, 375.92]\n",
      "[381.0, 393.7, 368.3, 375.92]\n"
     ]
    }
   ],
   "source": [
    "l = list(map(int, input().split()))\n",
    "\n",
    "s = []\n",
    "for i in l:\n",
    "  s.append(2.54*i)\n",
    "print(s)\n",
    "\n",
    "nl = [2.54*x for x in l]\n",
    "print(nl)"
   ]
  },
  {
   "cell_type": "code",
   "execution_count": null,
   "id": "55942f98",
   "metadata": {},
   "outputs": [],
   "source": []
  }
 ],
 "metadata": {
  "kernelspec": {
   "display_name": "Python 3 (ipykernel)",
   "language": "python",
   "name": "python3"
  },
  "language_info": {
   "codemirror_mode": {
    "name": "ipython",
    "version": 3
   },
   "file_extension": ".py",
   "mimetype": "text/x-python",
   "name": "python",
   "nbconvert_exporter": "python",
   "pygments_lexer": "ipython3",
   "version": "3.11.5"
  }
 },
 "nbformat": 4,
 "nbformat_minor": 5
}
